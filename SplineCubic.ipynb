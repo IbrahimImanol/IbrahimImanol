{
  "nbformat": 4,
  "nbformat_minor": 0,
  "metadata": {
    "orig_nbformat": 4,
    "language_info": {
      "name": "python",
      "version": "3.9.6",
      "mimetype": "text/x-python",
      "codemirror_mode": {
        "name": "ipython",
        "version": 3
      },
      "pygments_lexer": "ipython3",
      "nbconvert_exporter": "python",
      "file_extension": ".py"
    },
    "kernelspec": {
      "name": "python3",
      "display_name": "Python 3.9.6 64-bit"
    },
    "interpreter": {
      "hash": "6ba5ca3e2d3009ac34b48a4f7209624703dfed4ce7d694f06345ed0f39157f46"
    },
    "colab": {
      "name": "SplineCubic.ipynb",
      "provenance": [],
      "collapsed_sections": [],
      "include_colab_link": true
    },
    "accelerator": "GPU"
  },
  "cells": [
    {
      "cell_type": "markdown",
      "metadata": {
        "id": "view-in-github",
        "colab_type": "text"
      },
      "source": [
        "<a href=\"https://colab.research.google.com/github/IbrahimImanol/IbrahimImanol/blob/main/SplineCubic.ipynb\" target=\"_parent\"><img src=\"https://colab.research.google.com/assets/colab-badge.svg\" alt=\"Open In Colab\"/></a>"
      ]
    },
    {
      "cell_type": "markdown",
      "metadata": {
        "id": "_N0L9n8DsOoU"
      },
      "source": [
        "Imports"
      ]
    },
    {
      "cell_type": "code",
      "metadata": {
        "id": "_Me2eW7asOoW"
      },
      "source": [
        "import random\n",
        "import numpy as np\n",
        "import numpy.linalg as lin\n",
        "import matplotlib.pyplot as plt\n"
      ],
      "execution_count": 43,
      "outputs": []
    },
    {
      "cell_type": "markdown",
      "metadata": {
        "id": "fRaPyno5sOoZ"
      },
      "source": [
        "Ingresar el valor de n"
      ]
    },
    {
      "cell_type": "code",
      "metadata": {
        "id": "KhSYaIXYsOoa",
        "colab": {
          "base_uri": "https://localhost:8080/"
        },
        "outputId": "61e69a2f-673b-4f0c-ce2c-955a1f825c0a"
      },
      "source": [
        "while True:\n",
        "    n = input(\"Ingrese el valor de n\")\n",
        "    try:\n",
        "        n = int(n)\n",
        "    except:\n",
        "        print(\"ingrese un valor numerico\") #si n no es un valor numerico muestra este mensaje \n",
        "        continue\n",
        "    if n > 7 and n < 13:\n",
        "        break #salir del bucle\n",
        "    #si n no se encuentra en el rango permitido se muestra este valor\n",
        "    print(\"ingrese un valor dentro del rango permitido\") \n",
        "    \n",
        "print(n)"
      ],
      "execution_count": 34,
      "outputs": [
        {
          "output_type": "stream",
          "name": "stdout",
          "text": [
            "Ingrese el valor de n9\n",
            "9\n"
          ]
        }
      ]
    },
    {
      "cell_type": "markdown",
      "metadata": {
        "id": "fdMg4DPesOoa"
      },
      "source": [
        "Crear pares ordenados"
      ]
    },
    {
      "cell_type": "code",
      "metadata": {
        "id": "tL6R4amisOob",
        "colab": {
          "base_uri": "https://localhost:8080/"
        },
        "outputId": "b0ffa156-36ec-4581-b999-a21180d1e0ab"
      },
      "source": [
        "Lx = list()\n",
        "Ly = list()\n",
        "for i in range(n): #genera valores aleatorios para cada par ordenado y lo almacena en una lista\n",
        "    while True:\n",
        "        x = random.randint(0,25) \n",
        "        if x not in Lx:\n",
        "            Lx.append(x)\n",
        "            break\n",
        "    #y = random.randint(0,25)\n",
        "    while True:\n",
        "        y = random.randint(0,25)\n",
        "        if y not in Ly:\n",
        "            Ly.append(y)\n",
        "            break\n",
        "    \n",
        "    #Ly.append(y)\n",
        "#ordenar listas\n",
        "Lx.sort()\n",
        "Ly.sort() \n",
        "print(\"Pares ordenados: \")\n",
        "for i in range(n):\n",
        "    print(Lx[i],Ly[i])"
      ],
      "execution_count": 35,
      "outputs": [
        {
          "output_type": "stream",
          "name": "stdout",
          "text": [
            "Pares ordenados: \n",
            "3 1\n",
            "4 8\n",
            "10 9\n",
            "11 10\n",
            "12 11\n",
            "13 14\n",
            "19 20\n",
            "21 24\n",
            "23 25\n"
          ]
        }
      ]
    },
    {
      "cell_type": "markdown",
      "metadata": {
        "id": "VABOcxQKsOoc"
      },
      "source": [
        "Ecuaciones para Si(x) usando la ecuacion cubica:\n",
        "Si(x) = ai $x^3$ + bi $x^2$ + cix + di"
      ]
    },
    {
      "cell_type": "code",
      "metadata": {
        "id": "wjRWD9casOod",
        "colab": {
          "base_uri": "https://localhost:8080/"
        },
        "outputId": "c3ed0e00-24ec-4a9a-c2b2-98972a49d139"
      },
      "source": [
        "#print(Ly)\n",
        "#print(Lx)\n",
        "Lec = list()\n",
        "for i in range(n-1):\n",
        "    print(\"Para s{0}\".format(i))\n",
        "    ec = str(Ly[i]) + \" = \" + str(Lx[i]**3) + \"a\" +str(i) + \" + \" + str(Lx[i]**2) + \"b\"+str(i)\n",
        "    ec = ec + \" + \" + str(Lx[i]) + \"c\" +str(i) + \" + \" + \"d\"+str(i)\n",
        "    print(ec)\n",
        "    Lec.append(ec)\n",
        "    ec = str(Ly[i+1]) + \" = \" + str(Lx[i+1]**3) + \"a\" +str(i) + \" + \" + str(Lx[i+1]**2) + \"b\"+str(i)\n",
        "    ec = ec + \" + \" + str(Lx[i+1]) + \"c\" +str(i) + \" + \" + \"d\"+str(i)\n",
        "    print(ec)\n",
        "    Lec.append(ec)"
      ],
      "execution_count": 36,
      "outputs": [
        {
          "output_type": "stream",
          "name": "stdout",
          "text": [
            "Para s0\n",
            "1 = 27a0 + 9b0 + 3c0 + d0\n",
            "8 = 64a0 + 16b0 + 4c0 + d0\n",
            "Para s1\n",
            "8 = 64a1 + 16b1 + 4c1 + d1\n",
            "9 = 1000a1 + 100b1 + 10c1 + d1\n",
            "Para s2\n",
            "9 = 1000a2 + 100b2 + 10c2 + d2\n",
            "10 = 1331a2 + 121b2 + 11c2 + d2\n",
            "Para s3\n",
            "10 = 1331a3 + 121b3 + 11c3 + d3\n",
            "11 = 1728a3 + 144b3 + 12c3 + d3\n",
            "Para s4\n",
            "11 = 1728a4 + 144b4 + 12c4 + d4\n",
            "14 = 2197a4 + 169b4 + 13c4 + d4\n",
            "Para s5\n",
            "14 = 2197a5 + 169b5 + 13c5 + d5\n",
            "20 = 6859a5 + 361b5 + 19c5 + d5\n",
            "Para s6\n",
            "20 = 6859a6 + 361b6 + 19c6 + d6\n",
            "24 = 9261a6 + 441b6 + 21c6 + d6\n",
            "Para s7\n",
            "24 = 9261a7 + 441b7 + 21c7 + d7\n",
            "25 = 12167a7 + 529b7 + 23c7 + d7\n"
          ]
        }
      ]
    },
    {
      "cell_type": "markdown",
      "metadata": {
        "id": "4Ns7LkRasOoe"
      },
      "source": [
        "Usando la primera derivada"
      ]
    },
    {
      "cell_type": "code",
      "metadata": {
        "id": "aLAmYaEvsOoe",
        "colab": {
          "base_uri": "https://localhost:8080/"
        },
        "outputId": "b8726201-64ce-4e4a-9c76-b249f8556d2c"
      },
      "source": [
        "for i in range(1,n-1):\n",
        "    j = i+1\n",
        "    k=i-1\n",
        "    print(\"Para s{0}' = s{1}'\".format(k,i))\n",
        "    #pc = (Lx[i],Ly[i])\n",
        "    #print(\"punto en comun:\",pc)\n",
        "    ec = str(3*(Lx[i]**2)) + \"a\" + str(k) + \" + \" +str(2*Lx[i]) + \"b\" + str(k) + \" + \" + \"c\" + str(k) + \" = \"\n",
        "    ec = ec + str(3*(Lx[i]**2)) + \"a\" + str(i) + \" + \" +str(2*Lx[i]) + \"b\" + str(i) + \" + \" + \"c\" + str(i)\n",
        "    print(ec)\n",
        "    Lec.append(ec)"
      ],
      "execution_count": 37,
      "outputs": [
        {
          "output_type": "stream",
          "name": "stdout",
          "text": [
            "Para s0' = s1'\n",
            "48a0 + 8b0 + c0 = 48a1 + 8b1 + c1\n",
            "Para s1' = s2'\n",
            "300a1 + 20b1 + c1 = 300a2 + 20b2 + c2\n",
            "Para s2' = s3'\n",
            "363a2 + 22b2 + c2 = 363a3 + 22b3 + c3\n",
            "Para s3' = s4'\n",
            "432a3 + 24b3 + c3 = 432a4 + 24b4 + c4\n",
            "Para s4' = s5'\n",
            "507a4 + 26b4 + c4 = 507a5 + 26b5 + c5\n",
            "Para s5' = s6'\n",
            "1083a5 + 38b5 + c5 = 1083a6 + 38b6 + c6\n",
            "Para s6' = s7'\n",
            "1323a6 + 42b6 + c6 = 1323a7 + 42b7 + c7\n"
          ]
        }
      ]
    },
    {
      "cell_type": "markdown",
      "metadata": {
        "id": "wBjKZg93sOof"
      },
      "source": [
        "Usando la segunda derivada"
      ]
    },
    {
      "cell_type": "code",
      "metadata": {
        "id": "XneMqmRusOof",
        "colab": {
          "base_uri": "https://localhost:8080/"
        },
        "outputId": "5858e0de-6a37-42e8-d2c3-1085b291d404"
      },
      "source": [
        "for i in range(1,n-1):\n",
        "    j = i+1\n",
        "    k=i-1\n",
        "    print(\"Para s{0}'' = s{1}''\".format(k,i))\n",
        "    #pc = (Lx[i],Ly[i])\n",
        "    #print(\"punto en comun:\",pc)\n",
        "    ec = str(6*(Lx[i])) + \"a\" + str(k) + \" + \" +str(Lx[i]) + \"b\" + str(k) + \" = \"\n",
        "    ec = ec + str(6*(Lx[i])) + \"a\" + str(i) + \" + \" +str(Lx[i]) + \"b\" + str(i) \n",
        "    print(ec)\n",
        "    Lec.append(ec)"
      ],
      "execution_count": 38,
      "outputs": [
        {
          "output_type": "stream",
          "name": "stdout",
          "text": [
            "Para s0'' = s1''\n",
            "24a0 + 4b0 = 24a1 + 4b1\n",
            "Para s1'' = s2''\n",
            "60a1 + 10b1 = 60a2 + 10b2\n",
            "Para s2'' = s3''\n",
            "66a2 + 11b2 = 66a3 + 11b3\n",
            "Para s3'' = s4''\n",
            "72a3 + 12b3 = 72a4 + 12b4\n",
            "Para s4'' = s5''\n",
            "78a4 + 13b4 = 78a5 + 13b5\n",
            "Para s5'' = s6''\n",
            "114a5 + 19b5 = 114a6 + 19b6\n",
            "Para s6'' = s7''\n",
            "126a6 + 21b6 = 126a7 + 21b7\n"
          ]
        }
      ]
    },
    {
      "cell_type": "markdown",
      "metadata": {
        "id": "FHvdJYBgsOog"
      },
      "source": [
        "Se evalua la condicion de Spline Cubico natural"
      ]
    },
    {
      "cell_type": "code",
      "metadata": {
        "id": "766PwvpbsOog",
        "colab": {
          "base_uri": "https://localhost:8080/"
        },
        "outputId": "f9592590-a208-4da8-a0c5-76e000945cf5"
      },
      "source": [
        "print(\"S0''({0}) = 0\".format(Lx[0]))\n",
        "ec = str(6*(Lx[0])) + \"a\" + str(0) + \" + \" +str(Lx[0]) + \"b\" + str(0) + \" = 0\" \n",
        "print(ec)\n",
        "Lec.append(ec)\n",
        "\n",
        "print(\"S{0}''({1}) = 0\".format(n-2,Lx[-1]))\n",
        "ec = str(6*(Lx[-1])) + \"a\" + str(n-2) + \" + \" +str(Lx[-1]) + \"b\" + str(n-2) + \" = 0\" \n",
        "print(ec)\n",
        "Lec.append(ec)"
      ],
      "execution_count": 39,
      "outputs": [
        {
          "output_type": "stream",
          "name": "stdout",
          "text": [
            "S0''(3) = 0\n",
            "18a0 + 3b0 = 0\n",
            "S7''(23) = 0\n",
            "138a7 + 23b7 = 0\n"
          ]
        }
      ]
    },
    {
      "cell_type": "code",
      "metadata": {
        "id": "Z-lstd1xsOog",
        "colab": {
          "base_uri": "https://localhost:8080/"
        },
        "outputId": "cbe81826-b711-44ef-f198-46df0175fc81"
      },
      "source": [
        "for ec in Lec:\n",
        "    print(ec)"
      ],
      "execution_count": 40,
      "outputs": [
        {
          "output_type": "stream",
          "name": "stdout",
          "text": [
            "1 = 27a0 + 9b0 + 3c0 + d0\n",
            "8 = 64a0 + 16b0 + 4c0 + d0\n",
            "8 = 64a1 + 16b1 + 4c1 + d1\n",
            "9 = 1000a1 + 100b1 + 10c1 + d1\n",
            "9 = 1000a2 + 100b2 + 10c2 + d2\n",
            "10 = 1331a2 + 121b2 + 11c2 + d2\n",
            "10 = 1331a3 + 121b3 + 11c3 + d3\n",
            "11 = 1728a3 + 144b3 + 12c3 + d3\n",
            "11 = 1728a4 + 144b4 + 12c4 + d4\n",
            "14 = 2197a4 + 169b4 + 13c4 + d4\n",
            "14 = 2197a5 + 169b5 + 13c5 + d5\n",
            "20 = 6859a5 + 361b5 + 19c5 + d5\n",
            "20 = 6859a6 + 361b6 + 19c6 + d6\n",
            "24 = 9261a6 + 441b6 + 21c6 + d6\n",
            "24 = 9261a7 + 441b7 + 21c7 + d7\n",
            "25 = 12167a7 + 529b7 + 23c7 + d7\n",
            "48a0 + 8b0 + c0 = 48a1 + 8b1 + c1\n",
            "300a1 + 20b1 + c1 = 300a2 + 20b2 + c2\n",
            "363a2 + 22b2 + c2 = 363a3 + 22b3 + c3\n",
            "432a3 + 24b3 + c3 = 432a4 + 24b4 + c4\n",
            "507a4 + 26b4 + c4 = 507a5 + 26b5 + c5\n",
            "1083a5 + 38b5 + c5 = 1083a6 + 38b6 + c6\n",
            "1323a6 + 42b6 + c6 = 1323a7 + 42b7 + c7\n",
            "24a0 + 4b0 = 24a1 + 4b1\n",
            "60a1 + 10b1 = 60a2 + 10b2\n",
            "66a2 + 11b2 = 66a3 + 11b3\n",
            "72a3 + 12b3 = 72a4 + 12b4\n",
            "78a4 + 13b4 = 78a5 + 13b5\n",
            "114a5 + 19b5 = 114a6 + 19b6\n",
            "126a6 + 21b6 = 126a7 + 21b7\n",
            "18a0 + 3b0 = 0\n",
            "138a7 + 23b7 = 0\n"
          ]
        }
      ]
    },
    {
      "cell_type": "code",
      "metadata": {
        "id": "0iSpsva_sOoh",
        "colab": {
          "base_uri": "https://localhost:8080/"
        },
        "outputId": "c9a4f7f9-6734-421e-92eb-e1031eeab04f"
      },
      "source": [
        "# SEL\n",
        "\n",
        "arr = list()\n",
        "arr2 = list()\n",
        "ll=int(len(Lec)/2)\n",
        "\n",
        "#for i in range(ll):\n",
        "#    ec=Lec[i]\n",
        "#    parts = ec.split()\n",
        "#    p1=parts[2].split('a')\n",
        "#    print(parts)\n",
        "\n",
        "for i in range(ll):\n",
        "    \n",
        "    temp=list()\n",
        "    for r in range(4*(n-1)):\n",
        "        temp.append(0)\n",
        "\n",
        "    ec=Lec[i]\n",
        "    parts = ec.split()\n",
        "    \n",
        "    p1=parts[2].split('a')\n",
        "    ss=p1[1]\n",
        "    p1=int(p1[0])\n",
        "    temp[int(ss)*4] = p1\n",
        "\n",
        "    p2=parts[4].split('b')\n",
        "    p2=int(p2[0])\n",
        "    temp[int(ss)*4+1] = p2\n",
        "\n",
        "    p3=parts[6].split('c')\n",
        "    p3=int(p3[0])\n",
        "    temp[int(ss)*4+2] = p3\n",
        "\n",
        "    temp[int(ss)*4+3] = 1\n",
        "\n",
        "    #print(temp)\n",
        "    arr.append(temp)\n",
        "\n",
        "    temp=list()\n",
        "    temp.append(int(parts[0]))\n",
        "    arr2.append(temp)\n",
        "\n",
        "#for i in range(ll,ll+n-2):\n",
        "#    ec=Lec[i]\n",
        "#    print(ec)\n",
        "\n",
        "for i in range(ll,ll+n-2):\n",
        "    temp=list()\n",
        "    for r in range(4*(n-1)):\n",
        "        temp.append(0)\n",
        "\n",
        "    ec=Lec[i]    \n",
        "    parts = ec.split()\n",
        "    \n",
        "    p1=parts[0].split('a')\n",
        "    ss=p1[1]\n",
        "    p1=int(p1[0])\n",
        "    temp[int(ss)*4] = p1\n",
        "\n",
        "    p2=parts[2].split('b')\n",
        "    p2=int(p2[0])\n",
        "    temp[int(ss)*4+1] = p2\n",
        "    \n",
        "    temp[int(ss)*4+2] = 1\n",
        "    \n",
        "    p1=parts[6].split('a')\n",
        "    ss=p1[1]\n",
        "    p1=int(p1[0])*(-1)\n",
        "    temp[int(ss)*4] = p1\n",
        "\n",
        "    p2=parts[8].split('b')\n",
        "    p2=int(p2[0])\n",
        "    temp[int(ss)*4+1] = (-1)*p2\n",
        "\n",
        "    temp[int(ss)*4+2] = -1\n",
        "\n",
        "    #print(temp)\n",
        "    arr.append(temp)\n",
        "    \n",
        "    temp=list()\n",
        "    temp.append(0)\n",
        "    arr2.append(temp)\n",
        "\n",
        "\n",
        "#for i in range(ll+n-2,ll+(n-2)*2):\n",
        "#    ec=Lec[i]\n",
        "#    #print(ec)\n",
        "\n",
        "for i in range(ll+n-2,ll+(n-2)*2):\n",
        "    temp=list()\n",
        "    for r in range(4*(n-1)):\n",
        "        temp.append(0)\n",
        "\n",
        "    ec=Lec[i]    \n",
        "    parts = ec.split()\n",
        "    \n",
        "    p1=parts[0].split('a')\n",
        "    ss=p1[1]\n",
        "    p1=int(p1[0])\n",
        "    temp[int(ss)*4] = p1\n",
        "\n",
        "    p2=parts[2].split('b')\n",
        "    p2=int(p2[0])\n",
        "    temp[int(ss)*4+1] = p2\n",
        "        \n",
        "    p1=parts[4].split('a')\n",
        "    ss=p1[1]\n",
        "    p1=int(p1[0])*(-1)\n",
        "    temp[int(ss)*4] = p1\n",
        "\n",
        "    p2=parts[6].split('b')\n",
        "    p2=int(p2[0])\n",
        "    temp[int(ss)*4+1] = (-1)*p2\n",
        "\n",
        "    #print(temp)\n",
        "    arr.append(temp)\n",
        "\n",
        "    temp=list()\n",
        "    temp.append(0)\n",
        "    arr2.append(temp)\n",
        "\n",
        "\n",
        "#for i in range(ll+(n-2)*2,len(Lec)):\n",
        "#    ec=Lec[i]\n",
        "#    print(ec)\n",
        "\n",
        "for i in range(ll+(n-2)*2,len(Lec)):\n",
        "    temp=list()\n",
        "    for r in range(4*(n-1)):\n",
        "        temp.append(0)\n",
        "\n",
        "    ec=Lec[i]    \n",
        "    parts = ec.split()\n",
        "    \n",
        "    p1=parts[0].split('a')\n",
        "    ss=p1[1]\n",
        "    p1=int(p1[0])\n",
        "    temp[int(ss)*4] = p1\n",
        "\n",
        "    p2=parts[2].split('b')\n",
        "    p2=int(p2[0])\n",
        "    temp[int(ss)*4+1] = p2\n",
        "    \n",
        "    #print(temp)\n",
        "    arr.append(temp)\n",
        "\n",
        "    temp=list()\n",
        "    temp.append(0)\n",
        "    arr2.append(temp)\n",
        "\n",
        "print('\\n')\n",
        "\n",
        "for y in arr:\n",
        "    print(y)\n",
        "\n",
        "print()\n",
        "print(arr2)\n",
        "\n",
        "A = np.array(arr)\n",
        "B = np.array(arr2)\n",
        "\n",
        "x = lin.solve(A,B)\n",
        "\n",
        "print()\n",
        "\n",
        "cc=0\n",
        "for i in x:\n",
        "    print(\"X\"+str(cc)+\" = \",str(i))\n",
        "    cc = cc+1\n"
      ],
      "execution_count": 41,
      "outputs": [
        {
          "output_type": "stream",
          "name": "stdout",
          "text": [
            "\n",
            "\n",
            "[27, 9, 3, 1, 0, 0, 0, 0, 0, 0, 0, 0, 0, 0, 0, 0, 0, 0, 0, 0, 0, 0, 0, 0, 0, 0, 0, 0, 0, 0, 0, 0]\n",
            "[64, 16, 4, 1, 0, 0, 0, 0, 0, 0, 0, 0, 0, 0, 0, 0, 0, 0, 0, 0, 0, 0, 0, 0, 0, 0, 0, 0, 0, 0, 0, 0]\n",
            "[0, 0, 0, 0, 64, 16, 4, 1, 0, 0, 0, 0, 0, 0, 0, 0, 0, 0, 0, 0, 0, 0, 0, 0, 0, 0, 0, 0, 0, 0, 0, 0]\n",
            "[0, 0, 0, 0, 1000, 100, 10, 1, 0, 0, 0, 0, 0, 0, 0, 0, 0, 0, 0, 0, 0, 0, 0, 0, 0, 0, 0, 0, 0, 0, 0, 0]\n",
            "[0, 0, 0, 0, 0, 0, 0, 0, 1000, 100, 10, 1, 0, 0, 0, 0, 0, 0, 0, 0, 0, 0, 0, 0, 0, 0, 0, 0, 0, 0, 0, 0]\n",
            "[0, 0, 0, 0, 0, 0, 0, 0, 1331, 121, 11, 1, 0, 0, 0, 0, 0, 0, 0, 0, 0, 0, 0, 0, 0, 0, 0, 0, 0, 0, 0, 0]\n",
            "[0, 0, 0, 0, 0, 0, 0, 0, 0, 0, 0, 0, 1331, 121, 11, 1, 0, 0, 0, 0, 0, 0, 0, 0, 0, 0, 0, 0, 0, 0, 0, 0]\n",
            "[0, 0, 0, 0, 0, 0, 0, 0, 0, 0, 0, 0, 1728, 144, 12, 1, 0, 0, 0, 0, 0, 0, 0, 0, 0, 0, 0, 0, 0, 0, 0, 0]\n",
            "[0, 0, 0, 0, 0, 0, 0, 0, 0, 0, 0, 0, 0, 0, 0, 0, 1728, 144, 12, 1, 0, 0, 0, 0, 0, 0, 0, 0, 0, 0, 0, 0]\n",
            "[0, 0, 0, 0, 0, 0, 0, 0, 0, 0, 0, 0, 0, 0, 0, 0, 2197, 169, 13, 1, 0, 0, 0, 0, 0, 0, 0, 0, 0, 0, 0, 0]\n",
            "[0, 0, 0, 0, 0, 0, 0, 0, 0, 0, 0, 0, 0, 0, 0, 0, 0, 0, 0, 0, 2197, 169, 13, 1, 0, 0, 0, 0, 0, 0, 0, 0]\n",
            "[0, 0, 0, 0, 0, 0, 0, 0, 0, 0, 0, 0, 0, 0, 0, 0, 0, 0, 0, 0, 6859, 361, 19, 1, 0, 0, 0, 0, 0, 0, 0, 0]\n",
            "[0, 0, 0, 0, 0, 0, 0, 0, 0, 0, 0, 0, 0, 0, 0, 0, 0, 0, 0, 0, 0, 0, 0, 0, 6859, 361, 19, 1, 0, 0, 0, 0]\n",
            "[0, 0, 0, 0, 0, 0, 0, 0, 0, 0, 0, 0, 0, 0, 0, 0, 0, 0, 0, 0, 0, 0, 0, 0, 9261, 441, 21, 1, 0, 0, 0, 0]\n",
            "[0, 0, 0, 0, 0, 0, 0, 0, 0, 0, 0, 0, 0, 0, 0, 0, 0, 0, 0, 0, 0, 0, 0, 0, 0, 0, 0, 0, 9261, 441, 21, 1]\n",
            "[0, 0, 0, 0, 0, 0, 0, 0, 0, 0, 0, 0, 0, 0, 0, 0, 0, 0, 0, 0, 0, 0, 0, 0, 0, 0, 0, 0, 12167, 529, 23, 1]\n",
            "[48, 8, 1, 0, -48, -8, -1, 0, 0, 0, 0, 0, 0, 0, 0, 0, 0, 0, 0, 0, 0, 0, 0, 0, 0, 0, 0, 0, 0, 0, 0, 0]\n",
            "[0, 0, 0, 0, 300, 20, 1, 0, -300, -20, -1, 0, 0, 0, 0, 0, 0, 0, 0, 0, 0, 0, 0, 0, 0, 0, 0, 0, 0, 0, 0, 0]\n",
            "[0, 0, 0, 0, 0, 0, 0, 0, 363, 22, 1, 0, -363, -22, -1, 0, 0, 0, 0, 0, 0, 0, 0, 0, 0, 0, 0, 0, 0, 0, 0, 0]\n",
            "[0, 0, 0, 0, 0, 0, 0, 0, 0, 0, 0, 0, 432, 24, 1, 0, -432, -24, -1, 0, 0, 0, 0, 0, 0, 0, 0, 0, 0, 0, 0, 0]\n",
            "[0, 0, 0, 0, 0, 0, 0, 0, 0, 0, 0, 0, 0, 0, 0, 0, 507, 26, 1, 0, -507, -26, -1, 0, 0, 0, 0, 0, 0, 0, 0, 0]\n",
            "[0, 0, 0, 0, 0, 0, 0, 0, 0, 0, 0, 0, 0, 0, 0, 0, 0, 0, 0, 0, 1083, 38, 1, 0, -1083, -38, -1, 0, 0, 0, 0, 0]\n",
            "[0, 0, 0, 0, 0, 0, 0, 0, 0, 0, 0, 0, 0, 0, 0, 0, 0, 0, 0, 0, 0, 0, 0, 0, 1323, 42, 1, 0, -1323, -42, -1, 0]\n",
            "[24, 4, 0, 0, -24, -4, 0, 0, 0, 0, 0, 0, 0, 0, 0, 0, 0, 0, 0, 0, 0, 0, 0, 0, 0, 0, 0, 0, 0, 0, 0, 0]\n",
            "[0, 0, 0, 0, 60, 10, 0, 0, -60, -10, 0, 0, 0, 0, 0, 0, 0, 0, 0, 0, 0, 0, 0, 0, 0, 0, 0, 0, 0, 0, 0, 0]\n",
            "[0, 0, 0, 0, 0, 0, 0, 0, 66, 11, 0, 0, -66, -11, 0, 0, 0, 0, 0, 0, 0, 0, 0, 0, 0, 0, 0, 0, 0, 0, 0, 0]\n",
            "[0, 0, 0, 0, 0, 0, 0, 0, 0, 0, 0, 0, 72, 12, 0, 0, -72, -12, 0, 0, 0, 0, 0, 0, 0, 0, 0, 0, 0, 0, 0, 0]\n",
            "[0, 0, 0, 0, 0, 0, 0, 0, 0, 0, 0, 0, 0, 0, 0, 0, 78, 13, 0, 0, -78, -13, 0, 0, 0, 0, 0, 0, 0, 0, 0, 0]\n",
            "[0, 0, 0, 0, 0, 0, 0, 0, 0, 0, 0, 0, 0, 0, 0, 0, 0, 0, 0, 0, 114, 19, 0, 0, -114, -19, 0, 0, 0, 0, 0, 0]\n",
            "[0, 0, 0, 0, 0, 0, 0, 0, 0, 0, 0, 0, 0, 0, 0, 0, 0, 0, 0, 0, 0, 0, 0, 0, 126, 21, 0, 0, -126, -21, 0, 0]\n",
            "[18, 3, 0, 0, 0, 0, 0, 0, 0, 0, 0, 0, 0, 0, 0, 0, 0, 0, 0, 0, 0, 0, 0, 0, 0, 0, 0, 0, 0, 0, 0, 0]\n",
            "[0, 0, 0, 0, 0, 0, 0, 0, 0, 0, 0, 0, 0, 0, 0, 0, 0, 0, 0, 0, 0, 0, 0, 0, 0, 0, 0, 0, 138, 23, 0, 0]\n",
            "\n",
            "[[1], [8], [8], [9], [9], [10], [10], [11], [11], [14], [14], [20], [20], [24], [24], [25], [0], [0], [0], [0], [0], [0], [0], [0], [0], [0], [0], [0], [0], [0], [0], [0]]\n",
            "\n",
            "X0 =  [-2.30297316]\n",
            "X1 =  [13.81783895]\n",
            "X2 =  [-4.51486579]\n",
            "X3 =  [-47.6356779]\n",
            "X4 =  [0.06502128]\n",
            "X5 =  [-0.3901277]\n",
            "X6 =  [-4.51486579]\n",
            "X7 =  [28.14014426]\n",
            "X8 =  [-0.24755861]\n",
            "X9 =  [1.48535168]\n",
            "X10 =  [51.74951589]\n",
            "X11 =  [-409.4717133]\n",
            "X12 =  [0.22987586]\n",
            "X13 =  [-1.37925514]\n",
            "X14 =  [-58.5378467]\n",
            "X15 =  [514.84142079]\n",
            "X16 =  [-0.15052903]\n",
            "X17 =  [0.90317416]\n",
            "X18 =  [51.01875947]\n",
            "X19 =  [-471.1680347]\n",
            "X20 =  [0.01203816]\n",
            "X21 =  [-0.07222894]\n",
            "X22 =  [-6.04232212]\n",
            "X23 =  [78.30904732]\n",
            "X24 =  [-0.02122927]\n",
            "X25 =  [0.12737561]\n",
            "X26 =  [22.40132755]\n",
            "X27 =  [-305.99626387]\n",
            "X28 =  [0.00707813]\n",
            "X29 =  [-0.04246879]\n",
            "X30 =  [-7.91589914]\n",
            "X31 =  [143.41203768]\n"
          ]
        }
      ]
    },
    {
      "cell_type": "code",
      "metadata": {
        "colab": {
          "base_uri": "https://localhost:8080/",
          "height": 1000
        },
        "id": "vtvo2T-0sOoi",
        "outputId": "5a3b4683-3e0e-4afc-ccf0-6d9aa16e9280"
      },
      "source": [
        "#Grafica\n",
        "cont=0\n",
        "for i in range(0,((n-1)*4),+4):\n",
        "    #print(x[i])\n",
        "    #print(x[i+1])\n",
        "    #print(x[i+2])\n",
        "    #print(x[i+3])\n",
        "    #print(\"separacion\")\n",
        "    a=x[i]\n",
        "    b=x[i+1]\n",
        "    c=x[i+2]\n",
        "    d=x[i+3]\n",
        "    \n",
        "    rango=np.arange(Lx[cont],Lx[cont+1],0.05)\n",
        "    y=[(a*xv**3+b*xv**2+c*xv+d)for xv in rango]\n",
        "\n",
        "    cont+=1\n",
        "    plt.plot(rango,y)\n",
        "    plt.pause(5)\n",
        "\n",
        "\n",
        "plt.close()"
      ],
      "execution_count": 42,
      "outputs": [
        {
          "output_type": "display_data",
          "data": {
            "image/png": "[encoded data removed]",
            "text/plain": [
              "<Figure size 432x288 with 1 Axes>"
            ]
          },
          "metadata": {
            "needs_background": "light"
          }
        },
        {
          "output_type": "display_data",
          "data": {
            "image/png": "[encoded data removed]",
            "text/plain": [
              "<Figure size 432x288 with 1 Axes>"
            ]
          },
          "metadata": {
            "needs_background": "light"
          }
        },
        {
          "output_type": "display_data",
          "data": {
            "image/png": "[encoded data removed]",
            "text/plain": [
              "<Figure size 432x288 with 1 Axes>"
            ]
          },
          "metadata": {
            "needs_background": "light"
          }
        },
        {
          "output_type": "display_data",
          "data": {
            "image/png": "[encoded data removed]",
            "text/plain": [
              "<Figure size 432x288 with 1 Axes>"
            ]
          },
          "metadata": {
            "needs_background": "light"
          }
        },
        {
          "output_type": "display_data",
          "data": {
            "image/png": "[encoded data removed]",
            "text/plain": [
              "<Figure size 432x288 with 1 Axes>"
            ]
          },
          "metadata": {
            "needs_background": "light"
          }
        },
        {
          "output_type": "display_data",
          "data": {
            "image/png": "[encoded data removed]",
            "text/plain": [
              "<Figure size 432x288 with 1 Axes>"
            ]
          },
          "metadata": {
            "needs_background": "light"
          }
        },
        {
          "output_type": "display_data",
          "data": {
            "image/png": "[encoded data removed]",
            "text/plain": [
              "<Figure size 432x288 with 1 Axes>"
            ]
          },
          "metadata": {
            "needs_background": "light"
          }
        },
        {
          "output_type": "display_data",
          "data": {
            "image/png": "[encoded data removed]",
            "text/plain": [
              "<Figure size 432x288 with 1 Axes>"
            ]
          },
          "metadata": {
            "needs_background": "light"
          }
        }
      ]
    },
    {
      "cell_type": "code",
      "metadata": {
        "id": "SEyEHJtSsXWS"
      },
      "source": [
        ""
      ],
      "execution_count": 42,
      "outputs": []
    }
  ]
}